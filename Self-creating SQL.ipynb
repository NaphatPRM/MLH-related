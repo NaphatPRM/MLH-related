{
 "cells": [
  {
   "cell_type": "code",
   "execution_count": 1,
   "id": "d5226197",
   "metadata": {},
   "outputs": [],
   "source": [
    "import sqlite3"
   ]
  },
  {
   "cell_type": "markdown",
   "id": "2f7494b4",
   "metadata": {},
   "source": [
    "## **Movie Database**\n",
    "\n",
    "In this notebook, we will make a tutorial on how to create the database through python"
   ]
  },
  {
   "cell_type": "markdown",
   "id": "ee7384c9",
   "metadata": {},
   "source": [
    "## 1. Create a connection\n"
   ]
  },
  {
   "cell_type": "code",
   "execution_count": 2,
   "id": "6213471a",
   "metadata": {
    "scrolled": true
   },
   "outputs": [
    {
     "name": "stdout",
     "output_type": "stream",
     "text": [
      "Database created and Successfully Connected to SQLite\n"
     ]
    }
   ],
   "source": [
    "# Create the connection to the database using sqlite\n",
    "conn = sqlite3.connect('movie_database.db')\n",
    "cursor = conn.cursor()\n",
    "print(\"Database created and Successfully Connected to SQLite\")"
   ]
  },
  {
   "cell_type": "markdown",
   "id": "288beefb",
   "metadata": {},
   "source": [
    "## 2. Create a table"
   ]
  },
  {
   "cell_type": "code",
   "execution_count": 3,
   "id": "414aa207",
   "metadata": {},
   "outputs": [
    {
     "data": {
      "text/plain": [
       "<sqlite3.Cursor at 0x7fb730a11dc0>"
      ]
     },
     "execution_count": 3,
     "metadata": {},
     "output_type": "execute_result"
    }
   ],
   "source": [
    "# Make an table from the files\n",
    "cursor.execute('''\n",
    "CREATE TABLE movies(\n",
    "name VARCHAR not null,\n",
    "ratings REAL not null,\n",
    "details VARCHAR not null,\n",
    "PRIMARY KEY(name))''')"
   ]
  },
  {
   "cell_type": "markdown",
   "id": "1d6ffda5",
   "metadata": {},
   "source": [
    "## 3. Insert the data"
   ]
  },
  {
   "cell_type": "code",
   "execution_count": 5,
   "id": "688fc47f",
   "metadata": {},
   "outputs": [],
   "source": [
    "cursor.execute('''\n",
    "            INSERT INTO movies\n",
    "            VALUES (?, ?, ?)''', (\"Oppenheimer\", 8.7, \"The story of American scientist, J. Robert Oppenheimer, and his role in the development of the atomic bomb.\")\n",
    "                  )\n",
    "\n",
    "cursor.execute('''\n",
    "        INSERT INTO movies\n",
    "        VALUES (?, ?, ?)''', (\"The Godfather\", 9.2, \"Don Vito Corleone, head of a mafia family, decides to hand over his empire to his youngest son Michael. However, his decision unintentionally puts the lives of his loved ones in grave danger.\")\n",
    "              )\n",
    "\n",
    "# Close the connection\n",
    "conn.close()"
   ]
  },
  {
   "cell_type": "code",
   "execution_count": null,
   "id": "bc9828cc",
   "metadata": {},
   "outputs": [],
   "source": []
  }
 ],
 "metadata": {
  "kernelspec": {
   "display_name": "Python 3 (ipykernel)",
   "language": "python",
   "name": "python3"
  },
  "language_info": {
   "codemirror_mode": {
    "name": "ipython",
    "version": 3
   },
   "file_extension": ".py",
   "mimetype": "text/x-python",
   "name": "python",
   "nbconvert_exporter": "python",
   "pygments_lexer": "ipython3",
   "version": "3.8.3"
  }
 },
 "nbformat": 4,
 "nbformat_minor": 5
}
